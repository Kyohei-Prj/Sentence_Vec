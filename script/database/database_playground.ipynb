{
 "cells": [
  {
   "cell_type": "code",
   "execution_count": 66,
   "metadata": {
    "collapsed": false
   },
   "outputs": [],
   "source": [
    "import sqlite3\n",
    "\n",
    "def create_table(dbname, table_name):\n",
    "    dbname = dbname\n",
    "\n",
    "    conn = sqlite3.connect(dbname)\n",
    "    cur = conn.cursor()\n",
    "\n",
    "    sql_statement = ('create table {}(id integer primary key autoincrement, title string, contents string, vector_val double);').format(table_name)\n",
    "\n",
    "    cur.execute(sql_statement)\n",
    "    conn.commit()\n",
    "\n",
    "    conn.close()"
   ]
  },
  {
   "cell_type": "code",
   "execution_count": 68,
   "metadata": {
    "collapsed": false
   },
   "outputs": [],
   "source": [
    "create_table('news.db', 'news')"
   ]
  },
  {
   "cell_type": "code",
   "execution_count": 1,
   "metadata": {
    "collapsed": false
   },
   "outputs": [],
   "source": [
    "from gensim.models import FastText as FT\n",
    "\n",
    "model = FT.load('../../data/word_vector/KT_model')"
   ]
  },
  {
   "cell_type": "code",
   "execution_count": 5,
   "metadata": {
    "collapsed": false
   },
   "outputs": [],
   "source": [
    "with open('../../data/livedoor/preprocess/processed_text_0.txt') as fn:\n",
    "    text = fn.read()"
   ]
  },
  {
   "cell_type": "code",
   "execution_count": 6,
   "metadata": {
    "collapsed": false
   },
   "outputs": [],
   "source": [
    "import re\n",
    "\n",
    "text_token = re.split(' ', text)"
   ]
  },
  {
   "cell_type": "code",
   "execution_count": 18,
   "metadata": {
    "collapsed": false
   },
   "outputs": [],
   "source": [
    "from janome.tokenizer import Tokenizer\n",
    "from janome.analyzer import Analyzer\n",
    "from janome.tokenfilter import POSKeepFilter\n",
    "\n",
    "tokenizer = Tokenizer()\n",
    "token_filters = [POSKeepFilter(['名詞', '動詞', '形容詞'])]\n",
    "analysis = Analyzer(tokenizer=tokenizer, token_filters=token_filters)"
   ]
  },
  {
   "cell_type": "code",
   "execution_count": 20,
   "metadata": {
    "collapsed": false
   },
   "outputs": [],
   "source": [
    "def concat_str(string_list):\n",
    "\n",
    "    string_concat = ''\n",
    "    for string in string_list:\n",
    "        string_concat = string_concat + string + ' '\n",
    "\n",
    "    return string_concat"
   ]
  },
  {
   "cell_type": "code",
   "execution_count": 21,
   "metadata": {
    "collapsed": false
   },
   "outputs": [],
   "source": [
    "token = analysis.analyze(text)\n",
    "word_list = [word.surface for word in token]\n",
    "word_concat = concat_str(word_list)"
   ]
  },
  {
   "cell_type": "code",
   "execution_count": 1,
   "metadata": {
    "collapsed": false
   },
   "outputs": [],
   "source": [
    "import glob\n",
    "\n",
    "def make_corpus(path):\n",
    "\n",
    "    filename_list = [filename for filename in glob.glob(path)]\n",
    "\n",
    "    corpus = []\n",
    "    for filename in filename_list:\n",
    "\n",
    "        with open(filename) as fn:\n",
    "            text = fn.read()\n",
    "\n",
    "        corpus.append(text)\n",
    "\n",
    "    return corpus"
   ]
  },
  {
   "cell_type": "code",
   "execution_count": 2,
   "metadata": {
    "collapsed": false
   },
   "outputs": [],
   "source": [
    "corpus = make_corpus('../../data/livedoor/pos_filter_limited/*')"
   ]
  },
  {
   "cell_type": "code",
   "execution_count": 40,
   "metadata": {
    "collapsed": false
   },
   "outputs": [
    {
     "name": "stdout",
     "output_type": "stream",
     "text": [
      "<class 'int'>\n",
      "541\n",
      "../../data/livedoor/pos_filter_limited/pos_filter_text_0.txt\n",
      "../../data/livedoor/pos_filter_limited/pos_filter_text_1.txt\n",
      "../../data/livedoor/pos_filter_limited/pos_filter_text_10.txt\n",
      "../../data/livedoor/pos_filter_limited/pos_filter_text_100.txt\n",
      "../../data/livedoor/pos_filter_limited/pos_filter_text_101.txt\n",
      "../../data/livedoor/pos_filter_limited/pos_filter_text_102.txt\n"
     ]
    }
   ],
   "source": [
    "import re\n",
    "\n",
    "path = '../../data/livedoor/pos_filter_limited/*'\n",
    "filename_list = [filename for filename in glob.glob(path)]\n",
    "index = int(re.split('/', filename_list[0])[-1].replace('.txt', '').replace('pos_filter_text_', ''))\n",
    "print(type(index))\n",
    "print(index)\n",
    "\n",
    "filename_list.sort()\n",
    "\n",
    "for i, filename in enumerate(filename_list):\n",
    "    print(filename)\n",
    "    if i == 5:\n",
    "        break"
   ]
  },
  {
   "cell_type": "code",
   "execution_count": 61,
   "metadata": {
    "collapsed": false
   },
   "outputs": [],
   "source": [
    "def sort_filename(path):\n",
    "\n",
    "    filename_list = [filename for filename in glob.glob(path)]\n",
    "\n",
    "    filename_dict = {}\n",
    "    for filename in filename_list:\n",
    "        index = int(re.split('/', filename)[-1].replace('.txt', '').replace('pos_filter_text_', ''))\n",
    "        filename_dict[filename] = index\n",
    "\n",
    "    \n",
    "    filename_tuple = sorted(filename_dict.items(), key=lambda x:x[1])\n",
    "\n",
    "    filename_list = [filename[0] for filename in filename_tuple]\n",
    "        \n",
    "    return filename_list"
   ]
  },
  {
   "cell_type": "code",
   "execution_count": 65,
   "metadata": {
    "collapsed": false
   },
   "outputs": [
    {
     "name": "stdout",
     "output_type": "stream",
     "text": [
      "<class 'list'>\n",
      "../../data/livedoor/pos_filter_limited/pos_filter_text_0.txt\n",
      "../../data/livedoor/pos_filter_limited/pos_filter_text_1.txt\n",
      "../../data/livedoor/pos_filter_limited/pos_filter_text_2.txt\n"
     ]
    }
   ],
   "source": [
    "sorted_filename = sort_filename('../../data/livedoor/pos_filter_limited/*')\n",
    "print(type(sorted_filename))\n",
    "print(sorted_filename[0])\n",
    "print(sorted_filename[1])\n",
    "print(sorted_filename[])"
   ]
  },
  {
   "cell_type": "code",
   "execution_count": 66,
   "metadata": {
    "collapsed": false
   },
   "outputs": [
    {
     "name": "stdout",
     "output_type": "stream",
     "text": [
      "../../data/livedoor/pos_filter_limited/pos_filter_text_0.txt\n",
      "../../data/livedoor/pos_filter_limited/pos_filter_text_1.txt\n",
      "../../data/livedoor/pos_filter_limited/pos_filter_text_2.txt\n",
      "../../data/livedoor/pos_filter_limited/pos_filter_text_3.txt\n",
      "../../data/livedoor/pos_filter_limited/pos_filter_text_4.txt\n",
      "../../data/livedoor/pos_filter_limited/pos_filter_text_5.txt\n"
     ]
    }
   ],
   "source": [
    "for i, key in enumerate(sorted_filename):\n",
    "    print(key)\n",
    "    if i == 5:\n",
    "        break"
   ]
  },
  {
   "cell_type": "code",
   "execution_count": 4,
   "metadata": {
    "collapsed": true
   },
   "outputs": [
    {
     "name": "stdout",
     "output_type": "stream",
     "text": [
      "アマゾンオススメ 電気 ストーブ 値段 すぎる 話題 全国 的 気温 下がり い よい やってき 節電 なる 今年 暖房 器具 見直す 家庭 多い amazon 販売 さ れ いる 電気 ストーブ とんでも ない 値段 話題 なっ 話題 なっ いる サンヨー reb オンライン ショップ 確認 する 程度 販売 さ れ いる アマゾン 表示 さ れ い 価格 高 さ ネット 買う ん 突っ込み 春 なっ 割 安く なる 冗談 話題 なっ いる 価格 表示 間違い 現在 商品 アマゾン 購入 不可 なっ いる ストーブ 購入 検討 し 価格 びっくり し 関連 記事 感想 シェア し 映画 鑑賞 動画 ワーナー 連携 し 映画 配信 話題 駐車 場 出し入れ スマ ホ 任せ 日産 公開 電気 自動車 pivo ピボ すごい 話題 倍 広 さ 日本 最大 級 規模 ヨドバシカメラ 梅田 ビル 建設 話題 iphone ユーザー 予想 外 ios アップデート バッテリー 問題 解決 し ない 話題 使う 髪 ハリツヤモッズヘアサロン ドライヤーコスメッティ \n",
      "今年 番 秋葉 がん ばった はだれ pc 萌え キャラ 人気 コンテスト 投票 開始 話題 パソコン ショップ 目立つ 萌え キャラ 萌え 聖地 いえる 秋葉原 いたる 萌え キャラ 見る できる アキバ 活躍 し pc 萌え キャラ 人気 コンテスト なる 開催 さ れ いる 今年 pc パーツ メーカー 国内 代理 店 公式 キャラ 増え 例年 キャラ 活躍 し い 公式 非公式 あわせ キャラ ノミネート さ れ いる コンテスト 興味 ある 投票 し み いかが 参加 者 抽選 zotac 製 小型 pc ノベルティグッズ 詰め合わせ 当選 する 昨年 一昨年 優勝 し ツクモ マスコットキャラクター つくも たん 連覇 なる かも 興味深い アキバ 活躍 し pc 萌え キャラ 人気 コンテスト 読者 投票 関連 記事 レディーガガ 並ん グーグル 選ん 日本人 アーティスト バーチャル アイドル 初音 ミクー chromecm 出演 中 話題 原発 事故 収束 なる ホット スポット ひと 目 わかる ー 東芝 ポータブル ガンマカメラ 売れ筋 チェック 兵士 自殺 問題 アプリ 解決 なる アメリカ 州兵 自殺 防止 アプリ 登場 話題 個人 情報 流出 au one ショッピング モール 不正 ログイン なりすまし 購入 発覚 ニュース facebook チェック し となり 座る 決め られる 航空 会社 発表 し びっくり 座席 指定 システム 話題 \n",
      "普通 小学生 戻っ ほしい 人気 子役 愛菜 消え ほしい 芸能人 位 話題 テレビ ない ない いう 大人気 子役 一番 芦田 愛菜 ショック 話題 テレビ 番組 上沼 高田 クギズケ 街角 アンケート テレビ 消え ほしい 有名人 位 輝い しまっ 子供 相手 かわいそう 声 ネット 登場 し いる 働かせ 過ぎ 普通 小学生 戻っ 勉強 し 遊ん し ほしい 視点 同意 声 多い 位 マツコ デラックス 位 チャングンソク 関連 記事 愛菜 転ぶ 紅白 結果 紅 組 優勝 嫌 たら 出 行け マツコ 韓 流 批判 ネット 賛成 韓国 日本 文化 なく なれ 大 反発 関連 記事 正しい 歯磨き コーチ し くれる ブラウン 電動 歯ブラシ オーラル b プレミアム モデル 発売 売れ筋 チェック 企業 大 注目 クール ガ ジェット 好き 女子 急増 話題 amazon シアトル kindle ストア オープン 電子 書籍 興味 なかっ 響く 話題 kw 当たり 全国 平均 得 ー 激 安 太陽光 発電 プラン 話題 タフ 防水 コンデジ 欲しかっ 機能 満載 ーパナソニック lumix dmcft 月日 発売 売れ筋 チェック \n",
      "iphones ユーザー 朗報 アップル ios 修正 版 配布 バッテリー 問題 解決 ニュース iphones 利用 し いる バッテリー なくなっ しまう 困っ いる ユーザー 多い アップル 声 受け 基本 ソフト ios 修正 版 近い うち 提供 する 発表 し cnn 報道 よる アップル ユーザー 声 受け バッテリー 駆動 影響 する いくつ 不具合 発見 し 対応 し ソフトウエア アップデート 週間 提供 する 予定 iphones gps 位置 情報 サービス 影響 バッテリー 消費 激しい ない 推測 さ れ いる 具体 原因 アップル 発表 し い ない ユーザー うれしい ニュース なっ iphones 年末 向け 販売 大幅 拡大 し いく ユーザー なる タイミング 発表 なっ 配布 開始 時期 待ち遠しい iphone s バッテリ 問題 週間 修正 配布 アップル cnn 関連 記事 iphone 禁止 なっ アプリ アンドロイド 登場 発熱 する カイロアプリホカホン 話題 音波 洗浄 オゾン 除 菌 ー 野菜 洗浄 くり 棒 売れ筋 チェック 恐竜 イルカ 現れる 拡張 現実 技術 ar 使っ 楽しい プロモーション 話題 年末 商戦 大 ピンチ タイ 洪水 hdd 価格 高騰 不足 恐れ 話題 マリオ ゲーム 発売 記念 し ショッピング センター お祭り騒ぎ 話題 \n"
     ]
    }
   ],
   "source": [
    "for i, text in enumerate(corpus):\n",
    "    print(text)\n",
    "    if i == 3:\n",
    "        break"
   ]
  },
  {
   "cell_type": "code",
   "execution_count": 5,
   "metadata": {
    "collapsed": false
   },
   "outputs": [],
   "source": [
    "from sklearn.feature_extraction.text import TfidfVectorizer\n",
    "\n",
    "def calc_tfidf(corpus):\n",
    "\n",
    "    vec = TfidfVectorizer()\n",
    "    tfidf = vec.fit_transform(corpus).toarray()\n",
    "    features = vec.get_feature_names()\n",
    "\n",
    "    return features, tfidf"
   ]
  },
  {
   "cell_type": "code",
   "execution_count": 6,
   "metadata": {
    "collapsed": false
   },
   "outputs": [],
   "source": [
    "def sort_result(features, tfidf):\n",
    "\n",
    "    result_list = []\n",
    "    for values in tfidf:\n",
    "        result_dict = dict(zip(features, values))\n",
    "        result_dict_sort = {\n",
    "            ky: val\n",
    "            for ky, val in sorted(result_dict.items(),\n",
    "                                  key=lambda item: item[1], reverse=True)\n",
    "        }\n",
    "        result_list.append(result_dict_sort)\n",
    "\n",
    "    return result_list"
   ]
  },
  {
   "cell_type": "code",
   "execution_count": 7,
   "metadata": {
    "collapsed": false
   },
   "outputs": [],
   "source": [
    "features, tfidf = calc_tfidf(corpus)\n",
    "result_list = sort_result(features, tfidf)"
   ]
  },
  {
   "cell_type": "code",
   "execution_count": 10,
   "metadata": {
    "collapsed": false
   },
   "outputs": [
    {
     "name": "stdout",
     "output_type": "stream",
     "text": [
      "865\n",
      "<class 'list'>\n",
      "<class 'dict'>\n"
     ]
    }
   ],
   "source": [
    "print(len(result_list))\n",
    "print(type(result_list))\n",
    "print(type(result_list[0]))"
   ]
  },
  {
   "cell_type": "code",
   "execution_count": 30,
   "metadata": {
    "collapsed": false
   },
   "outputs": [
    {
     "name": "stdout",
     "output_type": "stream",
     "text": [
      "<class 'list'>\n",
      "<class 'numpy.ndarray'>\n"
     ]
    }
   ],
   "source": [
    "print(type(features))\n",
    "print(type(tfidf))"
   ]
  },
  {
   "cell_type": "code",
   "execution_count": 19,
   "metadata": {
    "collapsed": true
   },
   "outputs": [
    {
     "name": "stdout",
     "output_type": "stream",
     "text": [
      "ist\n",
      "0.2824111185265187\n",
      "キーボード\n",
      "0.24797459450274437\n",
      "regza\n",
      "0.2321533665302596\n",
      "phone\n",
      "0.21052615424506527\n",
      "hulu\n",
      "0.2024519859054536\n",
      "スライド\n",
      "0.19269676358742924\n",
      "連続\n",
      "0.15053495023714086\n",
      "画素\n",
      "0.14678139822239686\n",
      "株式会社\n",
      "0.12266145821887849\n",
      "フル\n",
      "0.12099114119610804\n",
      "fujitsu\n",
      "0.11709472219135574\n",
      "microsoftroffice\n",
      "0.11709472219135574\n",
      "カラーラスターブラックコフレピンク\n",
      "0.11709472219135574\n",
      "セルラー\n",
      "0.11709472219135574\n",
      "モバイルコミュニケーションズ\n",
      "0.11709472219135574\n",
      "セキュリティアプリ\n",
      "0.11038003045499202\n",
      "片手\n",
      "0.11038003045499202\n",
      "使う\n",
      "0.1088535456551407\n",
      "本体\n",
      "0.10666895609405433\n",
      "できる\n",
      "0.10574642905636925\n",
      "出先\n",
      "0.10561588085009764\n",
      "名刺\n",
      "0.10561588085009764\n",
      "沖縄\n",
      "0.10561588085009764\n",
      "プリインストール\n",
      "0.10192051932559214\n",
      "両手\n",
      "0.10192051932559214\n",
      "すばやく\n",
      "0.09890118911373394\n",
      "富士通\n",
      "0.09890118911373394\n",
      "dap\n",
      "0.09634838179371462\n",
      "ナビゲーター\n",
      "0.09413703950883956\n",
      "ポケットドルツ\n",
      "0.09413703950883956\n",
      "吉瀬\n",
      "0.09413703950883956\n",
      "美智子\n",
      "0.09413703950883956\n",
      "エコナビキャンペーン\n",
      "0.09218649737737021\n",
      "キッズ\n",
      "0.09218649737737021\n",
      "ビジネスパーソン\n",
      "0.08886329685134463\n",
      "気に入っ\n",
      "0.08886329685134463\n",
      "フォン\n",
      "0.08884626360557012\n",
      "仕上げ\n",
      "0.08742234777247584\n",
      "ワケデジ\n",
      "0.08609680311518243\n",
      "求める\n",
      "0.08609680311518243\n",
      "送信\n",
      "0.08609680311518243\n",
      "開け\n",
      "0.08609680311518243\n",
      "閲覧\n",
      "0.08609680311518243\n",
      "発売\n",
      "0.08586950866230786\n",
      "約分\n",
      "0.08486954045245652\n",
      "ワンセグ\n",
      "0.08372698624797033\n",
      "歯磨き\n",
      "0.08372698624797033\n",
      "スマート\n",
      "0.08353556512169835\n",
      "アプリケーション\n",
      "0.08265819816758146\n",
      "メイン\n",
      "0.08070765603611212\n",
      "つぶやく\n",
      "0.07981227757662991\n",
      "広く\n",
      "0.07981227757662991\n",
      "インチ\n",
      "0.07664831354168428\n",
      "オーディオ\n",
      "0.07664831354168428\n",
      "タッチパネル\n",
      "0.07664831354168428\n",
      "リーダー\n",
      "0.07594350643121775\n",
      "ファイル\n",
      "0.07461796177392434\n",
      "音質\n",
      "0.07461796177392434\n",
      "文字\n",
      "0.07339069911119843\n",
      "可能\n",
      "0.07259217579860126\n",
      "入力\n",
      "0.07224814490671222\n",
      "新作\n",
      "0.07170513011223667\n",
      "ビジネス\n",
      "0.06969533758669293\n",
      "効率\n",
      "0.06969533758669293\n",
      "通話\n",
      "0.06833343623537183\n",
      "なけれ\n",
      "0.06790327003756061\n",
      "ソフト\n",
      "0.06790327003756061\n",
      "有効\n",
      "0.06790327003756061\n",
      "うれしい\n",
      "0.0670750740940636\n",
      "kddi\n",
      "0.0662863313377277\n",
      "自宅\n",
      "0.06590561416882845\n",
      "質量\n",
      "0.0655334531703485\n",
      "シーン\n",
      "0.06313912043266624\n",
      "行う\n",
      "0.06313912043266624\n",
      "さら\n",
      "0.06282367341933594\n",
      "登場\n",
      "0.06256392845550691\n",
      "子ども\n",
      "0.062210252644322936\n",
      "オススメ\n",
      "0.06076930356545414\n",
      "ディスプレイ\n",
      "0.06049557059805402\n",
      "東芝\n",
      "0.06049557059805402\n",
      "電動\n",
      "0.06049557059805402\n",
      "twitter\n",
      "0.06022628877097857\n",
      "音楽\n",
      "0.05919092243246472\n",
      "au\n",
      "0.05845478046406246\n",
      "仕事\n",
      "0.05845478046406246\n",
      "確認\n",
      "0.05845478046406246\n",
      "活用\n",
      "0.05821649624543483\n",
      "メール\n",
      "0.057749973353595926\n",
      "mm\n",
      "0.05752154949100726\n",
      "画面\n",
      "0.05707394204094863\n",
      "google\n",
      "0.05621346447421164\n",
      "わかっ\n",
      "0.05621346447421164\n",
      "楽しめる\n",
      "0.05559623275280552\n",
      "表示\n",
      "0.05500118188259148\n",
      "デジ\n",
      "0.05442677282757035\n",
      "操作\n",
      "0.05351159703461485\n",
      "機種\n",
      "0.053334478047027165\n",
      "android\n",
      "0.052476230696100995\n",
      "編集\n",
      "0.05166027909140815\n",
      "電話\n",
      "0.05134483207807784\n",
      "サイズ\n",
      "0.05058154179625433\n",
      "開始\n",
      "0.047217702065838904\n",
      "使っ\n",
      "0.04442313180278506\n",
      "カメラ\n",
      "0.043425211421386285\n",
      "パナソニック\n",
      "0.043425211421386285\n",
      "する\n",
      "0.039190206227879734\n",
      "スマ\n",
      "0.03837304642692306\n",
      "日本\n",
      "0.03816027518126356\n",
      "月日\n",
      "0.037201964278296466\n",
      "多い\n",
      "0.03713558957029065\n",
      "なる\n",
      "0.02685855282759315\n",
      "ない\n",
      "0.02220159108867114\n",
      "関連\n",
      "0.019526339828382488\n",
      "いる\n",
      "0.01941236506688294\n",
      "記事\n",
      "0.019254106835393813\n"
     ]
    }
   ],
   "source": [
    "result = result_list[10]\n",
    "\n",
    "for keys in result:\n",
    "    if result[keys] > 0:\n",
    "        print(keys)\n",
    "        print(result[keys])"
   ]
  },
  {
   "cell_type": "code",
   "execution_count": 23,
   "metadata": {
    "collapsed": true
   },
   "outputs": [
    {
     "name": "stdout",
     "output_type": "stream",
     "text": [
      "ストーブ\n",
      "0.31630711682548573\n",
      "電気\n",
      "0.20077847889128203\n",
      "話題\n",
      "0.19727858083526106\n",
      "アマゾン\n",
      "0.1823504664839032\n",
      "なっ\n",
      "0.18003569871267963\n",
      "価格\n",
      "0.16293734079559818\n",
      "値段\n",
      "0.1628279318855904\n",
      "reb\n",
      "0.14546991289757794\n",
      "サンヨー\n",
      "0.13712807132057966\n",
      "冗談\n",
      "0.13712807132057966\n",
      "表示\n",
      "0.13665888586590938\n"
     ]
    }
   ],
   "source": [
    "result = result_list[0]\n",
    "\n",
    "for i, keys in enumerate(result):\n",
    "    print(keys)\n",
    "    print(result[keys])\n",
    "    if i == 10:\n",
    "        break"
   ]
  },
  {
   "cell_type": "code",
   "execution_count": 31,
   "metadata": {
    "collapsed": false
   },
   "outputs": [
    {
     "name": "stdout",
     "output_type": "stream",
     "text": [
      "14909\n",
      "14909\n"
     ]
    }
   ],
   "source": [
    "print(len(result_list[0]))\n",
    "print(len(result_list[1]))"
   ]
  }
 ],
 "metadata": {
  "kernelspec": {
   "argv": [
    "python",
    "-m",
    "ipykernel_launcher",
    "-f",
    "{connection_file}"
   ],
   "display_name": "Python 3",
   "env": null,
   "interrupt_mode": "signal",
   "language": "python",
   "metadata": null,
   "name": "python3"
  },
  "name": "database_playground.ipynb"
 },
 "nbformat": 4,
 "nbformat_minor": 4
}
