{
 "cells": [
  {
   "cell_type": "code",
   "execution_count": 1,
   "id": "worse-purchase",
   "metadata": {
    "collapsed": false
   },
   "outputs": [],
   "source": [
    "# load packages\n",
    "from sklearn.model_selection import train_test_split\n",
    "import pandas as pd\n",
    "import glob\n",
    "import os"
   ]
  },
  {
   "cell_type": "code",
   "execution_count": 3,
   "id": "wired-milan",
   "metadata": {
    "collapsed": false
   },
   "outputs": [],
   "source": [
    "# load folders\n",
    "path = '../../data/livedoor/*/'\n",
    "folder_list = [folder for folder in glob.glob(path)]\n",
    "folder_list.sort()"
   ]
  },
  {
   "cell_type": "code",
   "execution_count": 7,
   "id": "british-movement",
   "metadata": {
    "collapsed": false
   },
   "outputs": [],
   "source": [
    "# label text\n",
    "df_list = []\n",
    "for i, folder in enumerate(folder_list):\n",
    "    df = pd.DataFrame()\n",
    "    text_list = []\n",
    "    file_list = [fn for fn in glob.glob(folder + 'pos_filter/*')]\n",
    "    for fn in file_list:\n",
    "        with open(fn, mode='r') as f:\n",
    "            text = f.read()\n",
    "        text_list.append(text)\n",
    "    df['text'] = text_list\n",
    "    # df['label'] = '__label__' + folder.split('/')[-2]\n",
    "    df['label'] = '__label__' + str(i)\n",
    "    df = df.reindex(columns=['label', 'text'])\n",
    "    df_list.append(df)\n",
    "df_full = pd.concat(df_list)\n",
    "df_full = df_full.sample(frac=1)"
   ]
  },
  {
   "cell_type": "code",
   "execution_count": 8,
   "id": "amazing-employee",
   "metadata": {
    "collapsed": false
   },
   "outputs": [],
   "source": [
    "# split and save\n",
    "train, test = train_test_split(df_full, train_size=0.75)\n",
    "save_dir = '../../data/livedoor/torch'\n",
    "if not os.path.exists(save_dir):\n",
    "    os.makedirs(save_dir)\n",
    "train.to_csv(save_dir + '/train.csv', header=False, index=False)\n",
    "test.to_csv(save_dir + '/test.csv', header=False, index=False)"
   ]
  }
 ],
 "metadata": {
  "kernelspec": {
   "argv": [
    "python",
    "-m",
    "ipykernel_launcher",
    "-f",
    "{connection_file}"
   ],
   "display_name": "Python 3",
   "env": null,
   "interrupt_mode": "signal",
   "language": "python",
   "metadata": null,
   "name": "python3"
  },
  "name": "labeling.ipynb"
 },
 "nbformat": 4,
 "nbformat_minor": 5
}
