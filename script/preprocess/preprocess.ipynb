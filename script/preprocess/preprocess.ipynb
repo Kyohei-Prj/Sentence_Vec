{
 "cells": [
  {
   "cell_type": "code",
   "execution_count": 74,
   "metadata": {
    "collapsed": false
   },
   "outputs": [],
   "source": [
    "def remove_header(filepath, head_index=2):\n",
    "\n",
    "    with open(filepath) as fn:\n",
    "        return fn.readlines()[head_index:]"
   ]
  },
  {
   "cell_type": "code",
   "execution_count": 71,
   "metadata": {
    "collapsed": false
   },
   "outputs": [],
   "source": [
    "def save_file(save_path, text):\n",
    "\n",
    "    with open(save_path, mode='w') as fn:\n",
    "        fn.writelines(text)"
   ]
  },
  {
   "cell_type": "code",
   "execution_count": 72,
   "metadata": {
    "collapsed": false
   },
   "outputs": [],
   "source": [
    "import glob\n",
    "import re\n",
    "\n",
    "def init_preprocess(folder_path, save_path):\n",
    "\n",
    "    filename_list = [fn for fn in glob.glob(folder_path)]\n",
    "\n",
    "    for i, filename in enumerate(filename_list):\n",
    "        print('{}/{}'.format(i, len(filename_list)))\n",
    "        text = remove_header(filename)\n",
    "        save_to = save_path + re.split('/', filename)[-1]        \n",
    "        save_file(save_to, text)"
   ]
  },
  {
   "cell_type": "code",
   "execution_count": null,
   "metadata": {
    "collapsed": false
   },
   "outputs": [],
   "source": [
    "folder_path = '../../data/livedoor/text/*/*'\n",
    "save_path = '../../data/livedoor/init_process/'\n",
    "init_preprocess(folder_path, save_path)3"
   ]
  },
  {
   "cell_type": "code",
   "execution_count": null,
   "metadata": {
    "collapsed": false
   },
   "outputs": [],
   "source": [
    "import os\n",
    "\n",
    "original_path = '../../data/livedoor/init_process/*'\n",
    "original_list = [fn for fn in glob.glob(original_path)]\n",
    "\n",
    "rename_path = '../../data/livedoor/init_process/*'\n",
    "rename_list = [fn for fn in glob.glob(rename_path)]\n",
    "\n",
    "save_path = '../../data/livedoor/init_process/'\n",
    "\n",
    "for original in original_list:\n",
    "    save_file_path = save_path + re\n",
    "    os.rename(original, )"
   ]
  }
 ],
 "metadata": {
  "kernelspec": {
   "argv": [
    "python",
    "-m",
    "ipykernel_launcher",
    "-f",
    "{connection_file}"
   ],
   "display_name": "Python 3",
   "env": null,
   "interrupt_mode": "signal",
   "language": "python",
   "metadata": null,
   "name": "python3"
  },
  "name": "preprocess.ipynb"
 },
 "nbformat": 4,
 "nbformat_minor": 4
}
