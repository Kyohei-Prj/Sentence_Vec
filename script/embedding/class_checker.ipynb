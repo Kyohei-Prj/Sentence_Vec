{
 "cells": [
  {
   "cell_type": "code",
   "execution_count": 1,
   "metadata": {
    "collapsed": false
   },
   "outputs": [],
   "source": [
    "from fasttext_class import EmbedText\n",
    "\n",
    "model = EmbedText()\n",
    "model.init_model('../../data/livedoor/dokujo-tsushin/init_preprocess/text_0.txt')\n",
    "\n",
    "pos_model = EmbedText()\n",
    "pos_model.init_model('../../data/livedoor/dokujo-tsushin/pos_filter/pos_filter_text_0.txt')"
   ]
  },
  {
   "cell_type": "code",
   "execution_count": 2,
   "metadata": {
    "collapsed": false
   },
   "outputs": [
    {
     "name": "stdout",
     "output_type": "stream",
     "text": [
      "113\n",
      "218\n"
     ]
    }
   ],
   "source": [
    "print(len(model.model.wv.vocab))\n",
    "print(len(pos_model.model.wv.vocab))"
   ]
  },
  {
   "cell_type": "code",
   "execution_count": 3,
   "metadata": {
    "collapsed": true
   },
   "outputs": [
    {
     "name": "stdout",
     "output_type": "stream",
     "text": [
      "オトナ女子コミック部\n",
      "白髪\n",
      "垂れ尻\n",
      "ほうれい線\n",
      "だって\n",
      "なんだも\n",
      "ん\n",
      "はすべてに諦めがつく魔法の言葉\n",
      "女にとって年齢を意識する最初のポイントといえば\n",
      "やはり\n",
      "歳\n",
      "アラサー女子が集まれば\n",
      "お肌の曲がり角が\n",
      "徹夜がしんどくて\n",
      "なんて会話で盛り上がったりしますよね\n",
      "でもね\n",
      "の坂なんてまだまだ可愛いもの\n",
      "三十路ゾーンの次に待ち受けているのは\n",
      "そう\n",
      "歳の壁\n",
      "じゃあ\n",
      "代って具体的に何がどう変わるの\n",
      "怖いけれども知っておきたいというオトナ女子にお勧めしたいのが\n",
      "です\n",
      "つい最近\n",
      "厚生労働省による最新の調査結果で\n",
      "女性の第一子出産時の平均年齢が\n",
      "歳と初めて\n",
      "オーバーになったことはご存知でしょうか\n",
      "晩婚\n",
      "晩産\n",
      "加えて高齢化が進む昨今は\n",
      "どうやら\n",
      "代なんてまだまだお嬢ちゃんレベル\n",
      "人生\n",
      "年とすれば\n",
      "歳だっていまだ折り返し地点\n",
      "女子\n",
      "と\n",
      "オバサン\n",
      "の本当の分岐点は\n",
      "もしかすると\n",
      "ではなく\n",
      "まで引き上げられているのかもしれません\n",
      "だからって\n",
      "代なんだも\n",
      "なんていうゆる\n",
      "いタイトルはありなわけ\n",
      "と思わず突っ込んでしまいそうですが\n",
      "この開き直ったスタンスこそが本書の売り\n",
      "代の著者コンビによるこちらのコミック\n",
      "エッセイ\n",
      "キーワードは\n",
      "共感\n",
      "開き直り\n",
      "一般的なコミックエッセイといえば\n",
      "マンガがメインで\n",
      "αで解説というものがほとんどですが\n",
      "この本はあくまでコミック\n",
      "本書は\n",
      "マンガ\n",
      "代女性の本音コメント\n",
      "というバランスで\n",
      "代あるあるネタをマンガと体験談の双方からアプローチしています\n",
      "例えば\n",
      "白髪がどんどん生えてくる\n",
      "ほうれい線がくっきりしてきた\n",
      "お尻と太ももの境界線がなくなった\n",
      "といった\n",
      "加齢\n",
      "なる変身体験談がほのぼのタッチのマンガで綴られた後に\n",
      "私もそう\n",
      "私もこんなことがあって\n",
      "といった世の一般女性たちの共感コメント\n",
      "というか\n",
      "ぼやき\n",
      "が次々と炸裂\n",
      "美魔女\n",
      "を目指すことができるのは\n",
      "時間とお金と余裕があるごく一部の人だけ\n",
      "老眼も白髪も重力に負けていくボディも\n",
      "努力を放棄しているわけじゃないけど\n",
      "正直もう半分諦めている\n",
      "じゃあいっそのこと\n",
      "と開き直って今の自分を笑っちゃおう\n",
      "といった感じで\n",
      "本書を貫いているのは\n",
      "あるある\n",
      "わかる\n",
      "といった楽しくもちょっぴり哀しい\n",
      "けれどもすこぶるポジティブな\n",
      "パワー\n",
      "下半身が痩せる\n",
      "ほうれい線が消える\n",
      "などの実用的なアンチエイジングテクニックは一切盛り込まれていませんが\n",
      "その代わり\n",
      "アイタタタな状況は変わらないけど\n",
      "私だけじゃないと思えばまいっか\n",
      "と心強い気持ちになれることは確実\n",
      "つまりこの本は\n",
      "代女性の心の処方箋的役割を果たしてくれるのです\n",
      "アラフォーの坂が視野に入っているど真ん中世代はもちろん\n",
      "代なんてまだまだ先の話だしー\n",
      "なんて余裕をかましている\n",
      "代女性も\n",
      "予習の意味で読んで損なしの一冊です\n",
      "小鳥居ゆき\n",
      "加齢なる\n",
      "代女子のコミック\n",
      "ほしばあやこ\n",
      "はーさん\n",
      "主婦の友社\n",
      "円\n"
     ]
    }
   ],
   "source": [
    "for key in model.model.wv.vocab:\n",
    "    print(key)"
   ]
  },
  {
   "cell_type": "code",
   "execution_count": 4,
   "metadata": {
    "collapsed": true
   },
   "outputs": [
    {
     "name": "stdout",
     "output_type": "stream",
     "text": [
      "オトナ\n",
      "女子\n",
      "コミック\n",
      "部\n",
      "白髪\n",
      "垂れ\n",
      "尻\n",
      "れい\n",
      "線\n",
      "ん\n",
      "すべて\n",
      "諦め\n",
      "つく\n",
      "魔法\n",
      "言葉\n",
      "女\n",
      "年齢\n",
      "意識\n",
      "する\n",
      "最初\n",
      "ポイント\n",
      "いえ\n",
      "歳\n",
      "アラサー\n",
      "集まれ\n",
      "肌\n",
      "曲がり角\n",
      "徹夜\n",
      "しんどく\n",
      "会話\n",
      "盛り上がっ\n",
      "し\n",
      "坂\n",
      "可愛い\n",
      "もの\n",
      "三十路\n",
      "ゾーン\n",
      "次\n",
      "待ち受け\n",
      "いる\n",
      "の\n",
      "壁\n",
      "代\n",
      "具体\n",
      "的\n",
      "何\n",
      "変わる\n",
      "怖い\n",
      "知っ\n",
      "おき\n",
      "勧め\n",
      "最近\n",
      "厚生\n",
      "労働省\n",
      "最新\n",
      "調査\n",
      "結果\n",
      "女性\n",
      "一\n",
      "子\n",
      "出産\n",
      "時\n",
      "平均\n",
      "オーバー\n",
      "なっ\n",
      "こと\n",
      "ご存知\n",
      "晩婚\n",
      "晩\n",
      "産\n",
      "加え\n",
      "高齢\n",
      "化\n",
      "進む\n",
      "昨今\n",
      "嬢\n",
      "ちゃん\n",
      "レベル\n",
      "人生\n",
      "年\n",
      "すれ\n",
      "折り返し\n",
      "地点\n",
      "オバサン\n",
      "本当\n",
      "分岐\n",
      "点\n",
      "引き上げ\n",
      "られ\n",
      "しれ\n",
      "なん\n",
      "ゆる\n",
      "い\n",
      "タイトル\n",
      "あり\n",
      "わけ\n",
      "突っ込ん\n",
      "しまい\n",
      "そう\n",
      "開き直っ\n",
      "スタンス\n",
      "本書\n",
      "売り\n",
      "著者\n",
      "コンビ\n",
      "こちら\n",
      "エッセイ\n",
      "キーワード\n",
      "共感\n",
      "開き直り\n",
      "一般\n",
      "マンガ\n",
      "メイン\n",
      "解説\n",
      "本\n",
      "本音\n",
      "コメント\n",
      "バランス\n",
      "ある\n",
      "ネタ\n",
      "体験\n",
      "談\n",
      "双方\n",
      "アプローチ\n",
      "生え\n",
      "くる\n",
      "き\n",
      "太もも\n",
      "境界\n",
      "なくなっ\n",
      "加\n",
      "齢\n",
      "なる\n",
      "変身\n",
      "タッチ\n",
      "綴ら\n",
      "れ\n",
      "後\n",
      "私\n",
      "あっ\n",
      "世\n",
      "たち\n",
      "いう\n",
      "ぼやき\n",
      "炸裂\n",
      "美\n",
      "魔女\n",
      "目指す\n",
      "できる\n",
      "時間\n",
      "お金\n",
      "余裕\n",
      "一部\n",
      "人\n",
      "老眼\n",
      "重力\n",
      "負け\n",
      "いく\n",
      "ボディ\n",
      "努力\n",
      "放棄\n",
      "正直\n",
      "半分\n",
      "今\n",
      "自分\n",
      "笑っ\n",
      "ちゃお\n",
      "感じ\n",
      "貫い\n",
      "わかる\n",
      "楽しく\n",
      "哀しい\n",
      "ポジティブ\n",
      "パワー\n",
      "下半身\n",
      "痩せる\n",
      "消える\n",
      "実用\n",
      "アンチエイジングテクニック\n",
      "一切\n",
      "盛り込ま\n",
      "代わり\n",
      "アイタタタ\n",
      "状況\n",
      "変わら\n",
      "思え\n",
      "まいっ\n",
      "心強い\n",
      "気持ち\n",
      "なれる\n",
      "確実\n",
      "心\n",
      "処方箋\n",
      "役割\n",
      "果たし\n",
      "くれる\n",
      "アラフォー\n",
      "視野\n",
      "入っ\n",
      "真ん中\n",
      "世代\n",
      "先\n",
      "話\n",
      "ー\n",
      "かま\n",
      "予習\n",
      "意味\n",
      "読ん\n",
      "損\n",
      "なし\n",
      "冊\n",
      "鳥居\n",
      "ゆき\n",
      "ほし\n",
      "あやこ\n",
      "さん\n",
      "主婦の友社\n",
      "円\n"
     ]
    }
   ],
   "source": [
    "for key in pos_model.model.wv.vocab:\n",
    "    print(key)"
   ]
  },
  {
   "cell_type": "code",
   "execution_count": 6,
   "metadata": {
    "collapsed": false
   },
   "outputs": [],
   "source": [
    "with open('../../data/livedoor/dokujo-tsushin/init_preprocess/text_0.txt', 'r') as fn:\n",
    "    text = fn.read()"
   ]
  },
  {
   "cell_type": "code",
   "execution_count": 13,
   "metadata": {
    "collapsed": false
   },
   "outputs": [],
   "source": [
    "text_lines = text.split('。')\n",
    "with open('split.txt', 'w') as fn:\n",
    "    fn.writelines(text_lines)"
   ]
  },
  {
   "cell_type": "code",
   "execution_count": 1,
   "metadata": {
    "collapsed": false
   },
   "outputs": [],
   "source": [
    "from fasttext_class import EmbedText\n",
    "\n",
    "text = EmbedText.iter_doc('../../data/livedoor/dokujo-tsushin/init_preprocess/text_0.txt')\n",
    "text_lines = EmbedText.iter_doc('split.txt')"
   ]
  },
  {
   "cell_type": "code",
   "execution_count": 12,
   "metadata": {
    "collapsed": false
   },
   "outputs": [],
   "source": [
    "pos_text = EmbedText.iter_doc('../../data/livedoor/dokujo-tsushin/pos_filter/pos_filter_text_0.txt')"
   ]
  },
  {
   "cell_type": "code",
   "execution_count": 9,
   "metadata": {
    "collapsed": false
   },
   "outputs": [
    {
     "name": "stdout",
     "output_type": "stream",
     "text": [
      "[]\n"
     ]
    }
   ],
   "source": [
    "print(next(text_lines))"
   ]
  },
  {
   "cell_type": "code",
   "execution_count": 36,
   "metadata": {
    "collapsed": false
   },
   "outputs": [],
   "source": [
    "from fasttext_class import EmbedText\n",
    "\n",
    "file_path = '../../data/livedoor/dokujo-tsushin/init_preprocess/text_0.txt'\n",
    "\n",
    "model = EmbedText()\n",
    "model.init_model(file_path)"
   ]
  },
  {
   "cell_type": "code",
   "execution_count": null,
   "metadata": {
    "collapsed": false
   },
   "outputs": [],
   "source": []
  },
  {
   "cell_type": "code",
   "execution_count": 37,
   "metadata": {
    "collapsed": false
   },
   "outputs": [
    {
     "name": "stdout",
     "output_type": "stream",
     "text": [
      "4\n"
     ]
    }
   ],
   "source": [
    "print(len(model.model.wv.vocab))"
   ]
  },
  {
   "cell_type": "code",
   "execution_count": 38,
   "metadata": {
    "collapsed": true
   },
   "outputs": [
    {
     "name": "stdout",
     "output_type": "stream",
     "text": [
      "{'だって': <gensim.models.keyedvectors.Vocab object at 0x7fbfe98d4fd0>, 'なんだも': <gensim.models.keyedvectors.Vocab object at 0x7fbe3c51a910>, 'ん': <gensim.models.keyedvectors.Vocab object at 0x7fbe3c51aa90>, 'エッセイ': <gensim.models.keyedvectors.Vocab object at 0x7fbe3c51a610>}\n"
     ]
    }
   ],
   "source": [
    "print(model.model.wv.most_similar())"
   ]
  },
  {
   "cell_type": "code",
   "execution_count": null,
   "metadata": {
    "collapsed": false
   },
   "outputs": [],
   "source": [
    "print(model.model)"
   ]
  },
  {
   "cell_type": "code",
   "execution_count": 40,
   "metadata": {
    "collapsed": false
   },
   "outputs": [],
   "source": [
    "file_path_2 = '../../data/livedoor/dokujo-tsushin/init_preprocess/text_1.txt'\n",
    "model.update_model(file_path_2)"
   ]
  },
  {
   "cell_type": "code",
   "execution_count": 27,
   "metadata": {
    "collapsed": false
   },
   "outputs": [],
   "source": [
    "model.model.build_vocab(sentences=model.iter_doc(file_path_2), update=True)"
   ]
  },
  {
   "cell_type": "code",
   "execution_count": 28,
   "metadata": {
    "collapsed": false
   },
   "outputs": [],
   "source": [
    "model.model.train(corpus_file=file_path_2, epochs=model.model.epochs,  total_examples=model.model.corpus_count, total_words=model.model.corpus_total_words, model='skipgram')"
   ]
  },
  {
   "cell_type": "code",
   "execution_count": 29,
   "metadata": {
    "collapsed": false
   },
   "outputs": [
    {
     "name": "stdout",
     "output_type": "stream",
     "text": [
      "6\n"
     ]
    }
   ],
   "source": [
    "print(len(model.model.wv.vocab))"
   ]
  },
  {
   "cell_type": "code",
   "execution_count": 22,
   "metadata": {
    "collapsed": false
   },
   "outputs": [],
   "source": [
    "file_path_3 = '../../data/livedoor/dokujo-tsushin/init_preprocess/text_2.txt'\n",
    "model.update_model(file_path_3)"
   ]
  },
  {
   "cell_type": "code",
   "execution_count": 39,
   "metadata": {
    "collapsed": false
   },
   "outputs": [
    {
     "name": "stdout",
     "output_type": "stream",
     "text": [
      "[('ん', 0.021783558651804924), ('なんだも', 0.005960577167570591), ('だって', 0.0018742673564702272), ('エッセイ', 0.0011505221482366323)]\n"
     ]
    }
   ],
   "source": [
    "print(model.model.wv.most_similar('コミック'))"
   ]
  },
  {
   "cell_type": "code",
   "execution_count": 13,
   "metadata": {
    "collapsed": false
   },
   "outputs": [],
   "source": [
    "doc = model.iter_doc(file_path)"
   ]
  },
  {
   "cell_type": "code",
   "execution_count": 18,
   "metadata": {
    "collapsed": true
   },
   "outputs": [
    {
     "name": "stdout",
     "output_type": "stream",
     "text": [
      "['女にとって年齢を意識する最初のポイントといえば', 'やはり', '歳', 'アラサー女子が集まれば', 'お肌の曲がり角が', '徹夜がしんどくて', 'なんて会話で盛り上がったりしますよね', 'でもね', 'の坂なんてまだまだ可愛いもの', '三十路ゾーンの次に待ち受けているのは', 'そう', '歳の壁', 'じゃあ', '代って具体的に何がどう変わるの', '怖いけれども知っておきたいというオトナ女子にお勧めしたいのが', 'だって', 'なんだも', 'ん', 'です']\n"
     ]
    }
   ],
   "source": [
    "print(next(doc))"
   ]
  },
  {
   "cell_type": "code",
   "execution_count": 35,
   "metadata": {
    "collapsed": false
   },
   "outputs": [
    {
     "name": "stdout",
     "output_type": "stream",
     "text": [
      "【オトナ女子コミック部】白髪、垂れ尻、ほうれい線。『だって40なんだも〜ん！』はすべてに諦めがつく魔法の言葉!?\n",
      "女にとって年齢を意識する最初のポイントといえば、やはり30歳。アラサー女子が集まれば、「お肌の曲がり角が」「徹夜がしんどくて」なんて会話で盛り上がったりしますよね。でもね、30の坂なんてまだまだ可愛いもの。三十路ゾーンの次に待ち受けているのは、そう、40歳の壁！　じゃあ40代って具体的に何がどう変わるの？ 怖いけれども知っておきたいというオトナ女子にお勧めしたいのが、『だって40なんだも〜ん！』です。\n",
      "つい最近、厚生労働省による最新の調査結果で、女性の第一子出産時の平均年齢が30.1歳と初めて30オーバーになったことはご存知でしょうか。\n",
      "晩婚、晩産、加えて高齢化が進む昨今は、どうやら20・30代なんてまだまだお嬢ちゃんレベル。人生80年とすれば40歳だっていまだ折り返し地点。「女子」と「オバサン」の本当の分岐点は、もしかすると「30」ではなく「40」まで引き上げられているのかもしれません。\n",
      "\n",
      "……だからって『だって40代なんだも〜ん！』なんていうゆる〜いタイトルはありなわけ!?　と思わず突っ込んでしまいそうですが、この開き直ったスタンスこそが本書の売り。40代の著者コンビによるこちらのコミック＆エッセイ、キーワードは「共感」と「開き直り」です。\n",
      "\n",
      "一般的なコミックエッセイといえば、マンガがメインで＋αで解説というものがほとんどですが、この本はあくまでコミック＆エッセイ。本書は「マンガ：40代女性の本音コメント＝50：50」というバランスで、40代あるあるネタをマンガと体験談の双方からアプローチしています。\n",
      "\n",
      "例えば、\n",
      "\n",
      "「白髪がどんどん生えてくる」\n",
      "「ほうれい線がくっきりしてきた」\n",
      "「お尻と太ももの境界線がなくなった」\n",
      "\n",
      "といった“加齢”なる変身体験談がほのぼのタッチのマンガで綴られた後に、「私もそう」「私もこんなことがあって〜」といった世の一般女性たちの共感コメント（というか、ぼやき？）が次々と炸裂。\n",
      "\n",
      "“美魔女”を目指すことができるのは、時間とお金と余裕があるごく一部の人だけ。\n",
      "老眼も白髪も重力に負けていくボディも、努力を放棄しているわけじゃないけど、正直もう半分諦めている。\n",
      "じゃあいっそのこと「だって40代なんだも〜ん！」と開き直って今の自分を笑っちゃおう！\n",
      "\n",
      "といった感じで、本書を貫いているのは「あるある！」「わかる！」といった楽しくもちょっぴり哀しい、けれどもすこぶるポジティブな「共感」パワー。\n",
      "「下半身が痩せる」「ほうれい線が消える」などの実用的なアンチエイジングテクニックは一切盛り込まれていませんが、その代わり「アイタタタな状況は変わらないけど、私だけじゃないと思えばまいっか♪」と心強い気持ちになれることは確実。\n",
      "つまりこの本は、40代女性の心の処方箋的役割を果たしてくれるのです。\n",
      "\n",
      "アラフォーの坂が視野に入っているど真ん中世代はもちろん、「40代なんてまだまだ先の話だしー」なんて余裕をかましている20・30代女性も、予習の意味で読んで損なしの一冊です。（小鳥居ゆき）\n",
      "\n",
      "『だって40なんだも〜ん！　加齢なる40代女子のコミック＆エッセイ 』\n",
      "ほしばあやこ＆はーさん　主婦の友社　1050円\n",
      "\n"
     ]
    }
   ],
   "source": [
    "with open(file_path, 'r') as fn:\n",
    "    print(fn.read())"
   ]
  }
 ],
 "metadata": {
  "kernelspec": {
   "argv": [
    "python",
    "-m",
    "ipykernel_launcher",
    "-f",
    "{connection_file}"
   ],
   "display_name": "Python 3",
   "env": null,
   "interrupt_mode": "signal",
   "language": "python",
   "metadata": null,
   "name": "python3"
  },
  "name": "class_checker.ipynb"
 },
 "nbformat": 4,
 "nbformat_minor": 4
}
