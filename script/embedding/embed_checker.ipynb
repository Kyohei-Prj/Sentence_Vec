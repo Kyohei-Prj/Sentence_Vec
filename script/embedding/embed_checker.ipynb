{
 "cells": [
  {
   "cell_type": "code",
   "execution_count": 4,
   "metadata": {
    "collapsed": false
   },
   "outputs": [
    {
     "name": "stdout",
     "output_type": "stream",
     "text": [
      "18754\n"
     ]
    }
   ],
   "source": [
    "from gensim.models import FastText as FT\n",
    "\n",
    "model = FT.load('../../data/word_vector/KT_model')\n",
    "print(len(model.wv.vocab))"
   ]
  },
  {
   "cell_type": "code",
   "execution_count": 2,
   "metadata": {
    "collapsed": false
   },
   "outputs": [
    {
     "name": "stdout",
     "output_type": "stream",
     "text": [
      "[('作品', 0.9072827696800232), ('出演', 0.8487749695777893), ('ドラマ', 0.8376592993736267), ('監督', 0.8273282647132874), ('也監督', 0.8245197534561157), ('加恋', 0.7967026829719543), ('舞台', 0.7932311296463013), ('異例', 0.7928273677825928), ('一挙', 0.7903098464012146), ('ラブストーリー', 0.79002445936203)]\n"
     ]
    }
   ],
   "source": [
    "print(model.wv.most_similar('映画'))"
   ]
  },
  {
   "cell_type": "code",
   "execution_count": null,
   "metadata": {
    "collapsed": false
   },
   "outputs": [],
   "source": [
    "from gensim.models import KeyedVectors\n",
    "word_vector = model.wv\n",
    "word_vector.save('sample.kv')"
   ]
  },
  {
   "cell_type": "code",
   "execution_count": 9,
   "metadata": {
    "collapsed": false
   },
   "outputs": [],
   "source": [
    "del reload_wv\n",
    "reload_wv = KeyedVectors.load('sample.kv', mmap='r')"
   ]
  },
  {
   "cell_type": "code",
   "execution_count": 11,
   "metadata": {
    "collapsed": false
   },
   "outputs": [
    {
     "name": "stdout",
     "output_type": "stream",
     "text": [
      "[('監督', 0.8709227442741394), ('異例', 0.8695576786994934), ('也監督', 0.8675853610038757), ('加恋', 0.8592053651809692), ('部門', 0.8523834347724915), ('会', 0.8516529202461243), ('キャスト', 0.8512829542160034), ('映画', 0.8487749695777893), ('会場', 0.8481562733650208), ('賞', 0.8463965654373169)]\n"
     ]
    }
   ],
   "source": [
    "print(reload_wv.most_similar('出演'))"
   ]
  },
  {
   "cell_type": "code",
   "execution_count": 7,
   "metadata": {
    "collapsed": false
   },
   "outputs": [],
   "source": [
    "model.wv.save_word2vec_format('temp.vec')"
   ]
  },
  {
   "cell_type": "code",
   "execution_count": 1,
   "metadata": {
    "collapsed": false
   },
   "outputs": [],
   "source": [
    "from torchtext.vocab import Vectors\n",
    "\n",
    "torch_model = Vectors(name='temp.vec')"
   ]
  },
  {
   "cell_type": "code",
   "execution_count": 2,
   "metadata": {
    "collapsed": false
   },
   "outputs": [
    {
     "name": "stdout",
     "output_type": "stream",
     "text": [
      "150\n",
      "['利用', '者', 'ソフトウェア', '搭載', '時', 'もの', 'モデル', 'ため', '氏', 'いい']\n"
     ]
    }
   ],
   "source": [
    "print(torch_model.dim)\n",
    "print(torch_model.itos[50:60])"
   ]
  },
  {
   "cell_type": "code",
   "execution_count": 23,
   "metadata": {
    "collapsed": true
   },
   "outputs": [
    {
     "name": "stdout",
     "output_type": "stream",
     "text": [
      "tensor([ 0.3899, -0.3898, -0.6604, -1.2381, -1.0817,  1.4503, -0.1950, -0.0019,\n",
      "         0.6717, -0.7439,  0.0457, -0.4733,  0.0386, -0.6868,  0.0529, -0.5247,\n",
      "        -0.4720, -1.2356,  0.4112,  0.2987, -1.0640,  0.8272,  0.2465, -0.3243,\n",
      "         1.0520,  1.2802,  0.2264, -0.4844, -0.5899, -1.0869,  1.7414, -0.8604,\n",
      "        -0.9312, -1.1254,  0.8184, -0.5523, -1.0133,  1.1945, -0.6693,  1.1393,\n",
      "        -0.3109,  0.2209, -1.0506, -0.4818,  0.2712,  0.6679, -1.0131,  0.8487,\n",
      "         0.1403, -1.2270,  0.3953,  0.4735, -0.5317,  0.1851,  0.0170,  1.5596,\n",
      "         0.1738,  0.1890,  0.3338,  1.1207, -0.3757, -0.7718, -0.6664, -0.8079,\n",
      "        -0.0148, -0.3435,  0.7334,  0.5863,  0.1468,  0.8084, -0.0796,  0.9579,\n",
      "        -0.9285, -0.8729,  1.0437,  0.5003,  0.8108,  0.4469, -0.5699, -0.8651,\n",
      "        -0.3200, -0.5215, -1.0067,  0.2240, -0.3499, -0.7361,  1.1988, -0.0346,\n",
      "         1.3119, -1.5588, -0.3179,  0.7576,  0.0078, -0.3217,  0.9052, -1.0159,\n",
      "        -0.2114,  0.1833,  0.8502, -1.4444,  0.5915,  0.6379,  0.6477, -0.5811,\n",
      "        -1.0746, -0.3586, -0.5586,  0.9104, -0.0750,  0.0264,  0.5223,  0.4474,\n",
      "        -0.3290, -0.1457,  0.5858,  0.5413,  0.1754,  1.3908,  0.4615, -0.1147,\n",
      "         1.5884,  0.9408,  0.4527, -0.2832,  0.1979, -0.2014, -0.4938, -1.3416,\n",
      "         0.0412, -0.2554,  0.3892, -0.4453,  0.5010,  0.2180,  0.7246,  0.3420,\n",
      "        -0.1011,  0.2333, -0.5696, -1.4818,  0.5683, -0.5222,  0.8045, -0.2670,\n",
      "         0.0383, -0.5473, -1.8533, -0.3917,  1.0455,  1.2668])\n"
     ]
    }
   ],
   "source": [
    "print(torch_model.get_vecs_by_tokens('利用'))"
   ]
  },
  {
   "cell_type": "code",
   "execution_count": 45,
   "metadata": {
    "collapsed": false
   },
   "outputs": [
    {
     "name": "stdout",
     "output_type": "stream",
     "text": [
      "tensor(0.6465)\n",
      "tensor(-0.0245)\n",
      "tensor(True)\n",
      "tensor(False)\n"
     ]
    }
   ],
   "source": [
    "import torch.nn.functional as F\n",
    "target_vec = torch_model.get_vecs_by_tokens('映画')\n",
    "entry_vec = torch_model.get_vecs_by_tokens('テレビ')\n",
    "score_1 = F.cosine_similarity(target_vec, entry_vec, dim=0)\n",
    "print(score_1)\n",
    "entry_vec = torch_model.get_vecs_by_tokens('クジ')\n",
    "score_2 = F.cosine_similarity(target_vec, entry_vec, dim=0)\n",
    "print(score_2)\n",
    "\n",
    "print(score_1 > score_2)\n",
    "print(score_1 < score_2)"
   ]
  },
  {
   "cell_type": "code",
   "execution_count": 55,
   "metadata": {
    "collapsed": false
   },
   "outputs": [],
   "source": [
    "import torch\n",
    "import torch.nn.functional as F\n",
    "\n",
    "def get_similarity(model, word):\n",
    "\n",
    "    target_vec = torch_model.get_vecs_by_tokens(word)\n",
    "\n",
    "    for i, vocab in enumerate(model.itos):\n",
    "        if vocab != word:\n",
    "            entry_vec = torch_model.get_vecs_by_tokens(vocab)\n",
    "            score = F.cosine_similarity(target_vec, entry_vec, dim=0)\n",
    "            if i == 0:\n",
    "                best = score\n",
    "                match = vocab\n",
    "            if score > best:\n",
    "                best = score\n",
    "                match = vocab\n",
    "\n",
    "    return best, match"
   ]
  },
  {
   "cell_type": "code",
   "execution_count": 61,
   "metadata": {
    "collapsed": false
   },
   "outputs": [
    {
     "name": "stdout",
     "output_type": "stream",
     "text": [
      "score: 0.9568933248519897, word: フィッシャー\n"
     ]
    }
   ],
   "source": [
    "best_score, match_word = get_similarity(torch_model, 'コンピュータ')\n",
    "print('score: {}, word: {}'.format(best_score, match_word))"
   ]
  }
 ],
 "metadata": {
  "kernelspec": {
   "argv": [
    "python",
    "-m",
    "ipykernel_launcher",
    "-f",
    "{connection_file}"
   ],
   "display_name": "Python 3",
   "env": null,
   "interrupt_mode": "signal",
   "language": "python",
   "metadata": null,
   "name": "python3"
  },
  "name": "embed_checker.ipynb"
 },
 "nbformat": 4,
 "nbformat_minor": 4
}
