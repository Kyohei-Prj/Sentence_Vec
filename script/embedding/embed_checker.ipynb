{
 "cells": [
  {
   "cell_type": "code",
   "execution_count": 3,
   "metadata": {
    "collapsed": false
   },
   "outputs": [
    {
     "name": "stdout",
     "output_type": "stream",
     "text": [
      "20392\n"
     ]
    }
   ],
   "source": [
    "from gensim.models import FastText as FT\n",
    "\n",
    "model = FT.load('../../data/word_vector/KT_model')\n",
    "print(len(model.wv.vocab))"
   ]
  },
  {
   "cell_type": "code",
   "execution_count": 8,
   "metadata": {
    "collapsed": false
   },
   "outputs": [
    {
     "name": "stdout",
     "output_type": "stream",
     "text": [
      "[('cpm', 0.9594213366508484), ('cpughz', 0.9485539793968201), ('デュアルコア', 0.9465603828430176), ('ココア', 0.9387228488922119), ('ghzcpu', 0.9374191761016846), ('デュアル', 0.9232863783836365), ('コア', 0.9200255870819092), ('クアッドコア', 0.9194418787956238), ('apu', 0.9090832471847534), ('チップセット', 0.9079692363739014)]\n"
     ]
    }
   ],
   "source": [
    "print(model.wv.most_similar('cpu'))"
   ]
  }
 ],
 "metadata": {
  "kernelspec": {
   "argv": [
    "python",
    "-m",
    "ipykernel_launcher",
    "-f",
    "{connection_file}"
   ],
   "display_name": "Python 3",
   "env": null,
   "interrupt_mode": "signal",
   "language": "python",
   "metadata": null,
   "name": "python3"
  },
  "name": "embed_checker.ipynb"
 },
 "nbformat": 4,
 "nbformat_minor": 4
}
